{
 "cells": [
  {
   "cell_type": "markdown",
   "metadata": {},
   "source": [
    "Import essential libraries"
   ]
  },
  {
   "cell_type": "code",
   "execution_count": 1,
   "metadata": {
    "_cell_guid": "b1076dfc-b9ad-4769-8c92-a6c4dae69d19",
    "_uuid": "8f2839f25d086af736a60e9eeb907d3b93b6e0e5",
    "execution": {
     "iopub.execute_input": "2025-07-07T21:34:02.691910Z",
     "iopub.status.busy": "2025-07-07T21:34:02.691160Z",
     "iopub.status.idle": "2025-07-07T21:34:30.775625Z",
     "shell.execute_reply": "2025-07-07T21:34:30.774846Z",
     "shell.execute_reply.started": "2025-07-07T21:34:02.691880Z"
    },
    "trusted": true
   },
   "outputs": [
    {
     "name": "stderr",
     "output_type": "stream",
     "text": [
      "2025-07-07 21:34:17.792060: E external/local_xla/xla/stream_executor/cuda/cuda_fft.cc:477] Unable to register cuFFT factory: Attempting to register factory for plugin cuFFT when one has already been registered\n",
      "WARNING: All log messages before absl::InitializeLog() is called are written to STDERR\n",
      "E0000 00:00:1751924057.991723      35 cuda_dnn.cc:8310] Unable to register cuDNN factory: Attempting to register factory for plugin cuDNN when one has already been registered\n",
      "E0000 00:00:1751924058.050579      35 cuda_blas.cc:1418] Unable to register cuBLAS factory: Attempting to register factory for plugin cuBLAS when one has already been registered\n"
     ]
    }
   ],
   "source": [
    "import re\n",
    "import torch\n",
    "import joblib\n",
    "import pandas as pd\n",
    "import seaborn as sns\n",
    "import matplotlib.pyplot as plt\n",
    "from datasets import load_dataset\n",
    "from transformers import BertTokenizer\n",
    "from sklearn.preprocessing import LabelEncoder\n",
    "from sklearn.model_selection import train_test_split\n",
    "from transformers import Trainer, TrainingArguments, BertForSequenceClassification\n",
    "from sklearn.metrics import accuracy_score, confusion_matrix, precision_recall_fscore_support"
   ]
  },
  {
   "cell_type": "markdown",
   "metadata": {},
   "source": [
    "Helper functions"
   ]
  },
  {
   "cell_type": "code",
   "execution_count": 2,
   "metadata": {
    "execution": {
     "iopub.execute_input": "2025-07-07T21:34:30.777805Z",
     "iopub.status.busy": "2025-07-07T21:34:30.776926Z",
     "iopub.status.idle": "2025-07-07T21:34:30.782903Z",
     "shell.execute_reply": "2025-07-07T21:34:30.782156Z",
     "shell.execute_reply.started": "2025-07-07T21:34:30.777783Z"
    },
    "trusted": true
   },
   "outputs": [],
   "source": [
    "def plot_confusion_matrix(model, loader, classes):\n",
    "    model.eval()\n",
    "    y_pred = []\n",
    "    y_test = []\n",
    "\n",
    "    with torch.no_grad():\n",
    "        for inputs, labels in loader:\n",
    "            inputs, labels = inputs.to(device), labels.to(device)\n",
    "            outputs = model(inputs)\n",
    "            preds = outputs.argmax(dim=1)\n",
    "\n",
    "            y_pred.extend(preds.cpu().numpy())\n",
    "            y_test.extend(labels.cpu().numpy())\n",
    "\n",
    "    cm = confusion_matrix(y_test, y_pred)\n",
    "\n",
    "    plt.figure(figsize=(10, 7))\n",
    "    sns.heatmap(cm, annot=True, fmt='d', cmap='Blues', xticklabels=classes, yticklabels=classes)\n",
    "    plt.xlabel('Predicted')\n",
    "    plt.ylabel('True')\n",
    "    plt.title('Confusion Matrix')\n",
    "    plt.show()"
   ]
  },
  {
   "cell_type": "markdown",
   "metadata": {},
   "source": [
    "Import datasets\n",
    "<br>\n",
    "ml-spring-nlp-dataset: https://www.kaggle.com/datasets/amirhosseinkanani/ml-spring-nlp-dataset\n",
    "<br>\n",
    "persian stop words: https://www.kaggle.com/datasets/alikhademi9876/stopwords"
   ]
  },
  {
   "cell_type": "code",
   "execution_count": 3,
   "metadata": {
    "execution": {
     "iopub.execute_input": "2025-07-07T21:34:30.783778Z",
     "iopub.status.busy": "2025-07-07T21:34:30.783596Z",
     "iopub.status.idle": "2025-07-07T21:34:30.949170Z",
     "shell.execute_reply": "2025-07-07T21:34:30.948531Z",
     "shell.execute_reply.started": "2025-07-07T21:34:30.783762Z"
    },
    "trusted": true
   },
   "outputs": [
    {
     "name": "stdout",
     "output_type": "stream",
     "text": [
      "<class 'pandas.core.frame.DataFrame'>\n",
      "Index: 6125 entries, 0 to 6124\n",
      "Data columns (total 2 columns):\n",
      " #   Column   Non-Null Count  Dtype \n",
      "---  ------   --------------  ----- \n",
      " 0   text     6125 non-null   object\n",
      " 1   emotion  6125 non-null   object\n",
      "dtypes: object(2)\n",
      "memory usage: 143.6+ KB\n",
      "<class 'pandas.core.frame.DataFrame'>\n",
      "Index: 1151 entries, 0 to 1150\n",
      "Data columns (total 2 columns):\n",
      " #   Column   Non-Null Count  Dtype \n",
      "---  ------   --------------  ----- \n",
      " 0   text     1151 non-null   object\n",
      " 1   emotion  1151 non-null   object\n",
      "dtypes: object(2)\n",
      "memory usage: 27.0+ KB\n"
     ]
    }
   ],
   "source": [
    "device = torch.device(\"cuda\" if torch.cuda.is_available() else \"cpu\")\n",
    "train_file_path = '/kaggle/input/ml-spring-nlp-dataset/train.csv'\n",
    "test_file_path = '/kaggle/input/ml-spring-nlp-dataset/test.csv'\n",
    "stopwords_file_path = '/kaggle/input/stopwords/persian stop words.txt'\n",
    "\n",
    "train_df = pd.read_csv(train_file_path, index_col=0)\n",
    "test_df = pd.read_csv(test_file_path, index_col=0)\n",
    "\n",
    "with open(stopwords_file_path) as f:\n",
    "  stopwords = f.read().split('\\n')\n",
    "\n",
    "train_df.info()\n",
    "test_df.info()"
   ]
  },
  {
   "cell_type": "markdown",
   "metadata": {},
   "source": [
    "Preprocess dataset (Remove emojis, stopwords, and punctuations)"
   ]
  },
  {
   "cell_type": "code",
   "execution_count": 4,
   "metadata": {
    "execution": {
     "iopub.execute_input": "2025-07-07T21:34:30.951610Z",
     "iopub.status.busy": "2025-07-07T21:34:30.951101Z",
     "iopub.status.idle": "2025-07-07T21:34:30.997293Z",
     "shell.execute_reply": "2025-07-07T21:34:30.996538Z",
     "shell.execute_reply.started": "2025-07-07T21:34:30.951590Z"
    },
    "trusted": true
   },
   "outputs": [
    {
     "name": "stdout",
     "output_type": "stream",
     "text": [
      "<class 'pandas.core.frame.DataFrame'>\n",
      "Index: 6125 entries, 0 to 6124\n",
      "Data columns (total 2 columns):\n",
      " #   Column   Non-Null Count  Dtype \n",
      "---  ------   --------------  ----- \n",
      " 0   text     6125 non-null   object\n",
      " 1   emotion  6125 non-null   object\n",
      "dtypes: object(2)\n",
      "memory usage: 143.6+ KB\n",
      "<class 'pandas.core.frame.DataFrame'>\n",
      "Index: 1151 entries, 0 to 1150\n",
      "Data columns (total 2 columns):\n",
      " #   Column   Non-Null Count  Dtype \n",
      "---  ------   --------------  ----- \n",
      " 0   text     1151 non-null   object\n",
      " 1   emotion  1151 non-null   object\n",
      "dtypes: object(2)\n",
      "memory usage: 27.0+ KB\n"
     ]
    },
    {
     "data": {
      "text/html": [
       "<div>\n",
       "<style scoped>\n",
       "    .dataframe tbody tr th:only-of-type {\n",
       "        vertical-align: middle;\n",
       "    }\n",
       "\n",
       "    .dataframe tbody tr th {\n",
       "        vertical-align: top;\n",
       "    }\n",
       "\n",
       "    .dataframe thead th {\n",
       "        text-align: right;\n",
       "    }\n",
       "</style>\n",
       "<table border=\"1\" class=\"dataframe\">\n",
       "  <thead>\n",
       "    <tr style=\"text-align: right;\">\n",
       "      <th></th>\n",
       "      <th>text</th>\n",
       "      <th>emotion</th>\n",
       "    </tr>\n",
       "  </thead>\n",
       "  <tbody>\n",
       "    <tr>\n",
       "      <th>0</th>\n",
       "      <td>خیلی کوچیک هستن و سایزشون بدرد نمیخوره میخوام ...</td>\n",
       "      <td>SAD</td>\n",
       "    </tr>\n",
       "    <tr>\n",
       "      <th>1</th>\n",
       "      <td>از صدای پرنده دم دمای صبح متنفرم متنفرم متنفرم</td>\n",
       "      <td>HATE</td>\n",
       "    </tr>\n",
       "    <tr>\n",
       "      <th>2</th>\n",
       "      <td>\"کیفیتش خیلی خوبه با شک خریدم ولی واقعا راضیم...</td>\n",
       "      <td>SAD</td>\n",
       "    </tr>\n",
       "    <tr>\n",
       "      <th>3</th>\n",
       "      <td>چون همش با دوربین ثبت شده ، ایا میشه اعتراض زد...</td>\n",
       "      <td>OTHER</td>\n",
       "    </tr>\n",
       "    <tr>\n",
       "      <th>4</th>\n",
       "      <td>اين وضع ب طرز خنده داري گريه داره ...</td>\n",
       "      <td>SAD</td>\n",
       "    </tr>\n",
       "    <tr>\n",
       "      <th>...</th>\n",
       "      <td>...</td>\n",
       "      <td>...</td>\n",
       "    </tr>\n",
       "    <tr>\n",
       "      <th>6120</th>\n",
       "      <td>مرحوم پیش بینی آبکی زیاد میکرد     مرحوم عجب آ...</td>\n",
       "      <td>SURPRISE</td>\n",
       "    </tr>\n",
       "    <tr>\n",
       "      <th>6121</th>\n",
       "      <td>کلا عین اعتقادات و توئیت زدناتون ... !!   در ق...</td>\n",
       "      <td>ANGRY</td>\n",
       "    </tr>\n",
       "    <tr>\n",
       "      <th>6122</th>\n",
       "      <td>خب وقتی میگی کسی بیاد مارو بگیره یارو ترس میکن...</td>\n",
       "      <td>FEAR</td>\n",
       "    </tr>\n",
       "    <tr>\n",
       "      <th>6123</th>\n",
       "      <td>همون هارو     مگه آهنگ جدیدای خواننده‌های دهه ...</td>\n",
       "      <td>SURPRISE</td>\n",
       "    </tr>\n",
       "    <tr>\n",
       "      <th>6124</th>\n",
       "      <td>نیم دگیرش چطور حل نیشد</td>\n",
       "      <td>OTHER</td>\n",
       "    </tr>\n",
       "  </tbody>\n",
       "</table>\n",
       "<p>6125 rows × 2 columns</p>\n",
       "</div>"
      ],
      "text/plain": [
       "                                                   text   emotion\n",
       "0     خیلی کوچیک هستن و سایزشون بدرد نمیخوره میخوام ...       SAD\n",
       "1        از صدای پرنده دم دمای صبح متنفرم متنفرم متنفرم      HATE\n",
       "2      \"کیفیتش خیلی خوبه با شک خریدم ولی واقعا راضیم...       SAD\n",
       "3     چون همش با دوربین ثبت شده ، ایا میشه اعتراض زد...     OTHER\n",
       "4                 اين وضع ب طرز خنده داري گريه داره ...       SAD\n",
       "...                                                 ...       ...\n",
       "6120  مرحوم پیش بینی آبکی زیاد میکرد     مرحوم عجب آ...  SURPRISE\n",
       "6121  کلا عین اعتقادات و توئیت زدناتون ... !!   در ق...     ANGRY\n",
       "6122  خب وقتی میگی کسی بیاد مارو بگیره یارو ترس میکن...      FEAR\n",
       "6123  همون هارو     مگه آهنگ جدیدای خواننده‌های دهه ...  SURPRISE\n",
       "6124                            نیم دگیرش چطور حل نیشد      OTHER\n",
       "\n",
       "[6125 rows x 2 columns]"
      ]
     },
     "execution_count": 4,
     "metadata": {},
     "output_type": "execute_result"
    }
   ],
   "source": [
    "def remove_emoji(text):\n",
    "    emoji_pattern = re.compile(\n",
    "        \"[\\U00010000-\\U0010ffff]\", flags=re.UNICODE)\n",
    "    return emoji_pattern.sub(r'', text)\n",
    "\n",
    "def remove_stopwords(text):\n",
    "    return ' '.join([word for word in text.split() if word not in stopwords])\n",
    "\n",
    "def remove_punctuation(text):\n",
    "    return re.sub(r'[^\\w\\s]', '', text)\n",
    "\n",
    "def remove_digits(text):\n",
    "    return re.sub(r'[0-9]', '', text)\n",
    "\n",
    "def preprocess_text(df):\n",
    "    # df['text'] = df['text'].apply(remove_emoji)\n",
    "    df['text'] = df['text'].apply(remove_digits)\n",
    "    # df['text'] = df['text'].apply(remove_punctuation)\n",
    "    # df['text'] = df['text'].apply(remove_stopwords)\n",
    "    \n",
    "    return df\n",
    "\n",
    "train_df = preprocess_text(train_df)\n",
    "test_df = preprocess_text(test_df)\n",
    "train_df.info()\n",
    "test_df.info()\n",
    "train_df"
   ]
  },
  {
   "cell_type": "markdown",
   "metadata": {},
   "source": [
    "Label encode the data (also save the encoder for future use)"
   ]
  },
  {
   "cell_type": "code",
   "execution_count": 5,
   "metadata": {
    "execution": {
     "iopub.execute_input": "2025-07-07T21:34:30.998309Z",
     "iopub.status.busy": "2025-07-07T21:34:30.998072Z",
     "iopub.status.idle": "2025-07-07T21:34:31.012146Z",
     "shell.execute_reply": "2025-07-07T21:34:31.011554Z",
     "shell.execute_reply.started": "2025-07-07T21:34:30.998291Z"
    },
    "trusted": true
   },
   "outputs": [
    {
     "data": {
      "text/html": [
       "<div>\n",
       "<style scoped>\n",
       "    .dataframe tbody tr th:only-of-type {\n",
       "        vertical-align: middle;\n",
       "    }\n",
       "\n",
       "    .dataframe tbody tr th {\n",
       "        vertical-align: top;\n",
       "    }\n",
       "\n",
       "    .dataframe thead th {\n",
       "        text-align: right;\n",
       "    }\n",
       "</style>\n",
       "<table border=\"1\" class=\"dataframe\">\n",
       "  <thead>\n",
       "    <tr style=\"text-align: right;\">\n",
       "      <th></th>\n",
       "      <th>text</th>\n",
       "      <th>label</th>\n",
       "    </tr>\n",
       "  </thead>\n",
       "  <tbody>\n",
       "    <tr>\n",
       "      <th>0</th>\n",
       "      <td>اين شايد اولين عزاى عمومى واقعى است كه ياد دار...</td>\n",
       "      <td>5</td>\n",
       "    </tr>\n",
       "    <tr>\n",
       "      <th>1</th>\n",
       "      <td>دیشب بعد از ارسال تویت مربوط به آثار باستانی ت...</td>\n",
       "      <td>2</td>\n",
       "    </tr>\n",
       "    <tr>\n",
       "      <th>2</th>\n",
       "      <td>کدوم شعبه پول نداده، بگو الان برات آمار دقیق ...</td>\n",
       "      <td>4</td>\n",
       "    </tr>\n",
       "    <tr>\n",
       "      <th>3</th>\n",
       "      <td>امروز وسط یه بحث با بابا مامانم گفتم آدم باید ...</td>\n",
       "      <td>2</td>\n",
       "    </tr>\n",
       "    <tr>\n",
       "      <th>4</th>\n",
       "      <td>امشب گفت نامزدی دوستش که ادم روشنفکری است بهم ...</td>\n",
       "      <td>5</td>\n",
       "    </tr>\n",
       "    <tr>\n",
       "      <th>...</th>\n",
       "      <td>...</td>\n",
       "      <td>...</td>\n",
       "    </tr>\n",
       "    <tr>\n",
       "      <th>1146</th>\n",
       "      <td>یعنی این آهنگ مرغ سحر جوری ساخته شده و روی این...</td>\n",
       "      <td>2</td>\n",
       "    </tr>\n",
       "    <tr>\n",
       "      <th>1147</th>\n",
       "      <td>درود بر همه ایرانیان شریف که در این سرما در تظ...</td>\n",
       "      <td>2</td>\n",
       "    </tr>\n",
       "    <tr>\n",
       "      <th>1148</th>\n",
       "      <td>امروز تولدم است،عید است ولی شاد نیستم،عید و تو...</td>\n",
       "      <td>5</td>\n",
       "    </tr>\n",
       "    <tr>\n",
       "      <th>1149</th>\n",
       "      <td>لعنت به اونی که دلتنگ نگهت میداره...</td>\n",
       "      <td>5</td>\n",
       "    </tr>\n",
       "    <tr>\n",
       "      <th>1150</th>\n",
       "      <td>من در شگفت انگیز و قبل از بالا رفتن قیمت ها به...</td>\n",
       "      <td>2</td>\n",
       "    </tr>\n",
       "  </tbody>\n",
       "</table>\n",
       "<p>1151 rows × 2 columns</p>\n",
       "</div>"
      ],
      "text/plain": [
       "                                                   text  label\n",
       "0     اين شايد اولين عزاى عمومى واقعى است كه ياد دار...      5\n",
       "1     دیشب بعد از ارسال تویت مربوط به آثار باستانی ت...      2\n",
       "2      کدوم شعبه پول نداده، بگو الان برات آمار دقیق ...      4\n",
       "3     امروز وسط یه بحث با بابا مامانم گفتم آدم باید ...      2\n",
       "4     امشب گفت نامزدی دوستش که ادم روشنفکری است بهم ...      5\n",
       "...                                                 ...    ...\n",
       "1146  یعنی این آهنگ مرغ سحر جوری ساخته شده و روی این...      2\n",
       "1147  درود بر همه ایرانیان شریف که در این سرما در تظ...      2\n",
       "1148  امروز تولدم است،عید است ولی شاد نیستم،عید و تو...      5\n",
       "1149               لعنت به اونی که دلتنگ نگهت میداره...      5\n",
       "1150  من در شگفت انگیز و قبل از بالا رفتن قیمت ها به...      2\n",
       "\n",
       "[1151 rows x 2 columns]"
      ]
     },
     "execution_count": 5,
     "metadata": {},
     "output_type": "execute_result"
    }
   ],
   "source": [
    "label_encoder = LabelEncoder()\n",
    "train_df['label'] = label_encoder.fit_transform(train_df['emotion'])\n",
    "test_df['label'] = label_encoder.transform(test_df['emotion'])\n",
    "joblib.dump(label_encoder, 'label_encoder.pkl')\n",
    "\n",
    "train_df.drop(columns=['emotion'], inplace=True)\n",
    "test_df.drop(columns=['emotion'], inplace=True)\n",
    "train_df\n",
    "test_df"
   ]
  },
  {
   "cell_type": "markdown",
   "metadata": {},
   "source": [
    "Convert dataframes to datasets to use with bert model"
   ]
  },
  {
   "cell_type": "code",
   "execution_count": 6,
   "metadata": {
    "execution": {
     "iopub.execute_input": "2025-07-07T21:34:31.013172Z",
     "iopub.status.busy": "2025-07-07T21:34:31.012959Z",
     "iopub.status.idle": "2025-07-07T21:34:31.835859Z",
     "shell.execute_reply": "2025-07-07T21:34:31.835343Z",
     "shell.execute_reply.started": "2025-07-07T21:34:31.013151Z"
    },
    "trusted": true
   },
   "outputs": [
    {
     "data": {
      "application/vnd.jupyter.widget-view+json": {
       "model_id": "d92a32b719c04c83a1a099e757acc2b2",
       "version_major": 2,
       "version_minor": 0
      },
      "text/plain": [
       "Generating train split: 0 examples [00:00, ? examples/s]"
      ]
     },
     "metadata": {},
     "output_type": "display_data"
    },
    {
     "data": {
      "application/vnd.jupyter.widget-view+json": {
       "model_id": "153c67b360f74ebb81e7a16cbb3e42f4",
       "version_major": 2,
       "version_minor": 0
      },
      "text/plain": [
       "Generating valid split: 0 examples [00:00, ? examples/s]"
      ]
     },
     "metadata": {},
     "output_type": "display_data"
    },
    {
     "data": {
      "application/vnd.jupyter.widget-view+json": {
       "model_id": "17fa06026c054a81b543741e247bb3ae",
       "version_major": 2,
       "version_minor": 0
      },
      "text/plain": [
       "Generating test split: 0 examples [00:00, ? examples/s]"
      ]
     },
     "metadata": {},
     "output_type": "display_data"
    }
   ],
   "source": [
    "train_df, valid_df = train_test_split(train_df, test_size=0.1, random_state=42, stratify=train_df['label'])\n",
    "train_df.to_csv('train_preprocessed.csv')\n",
    "valid_df.to_csv('valid_preprocessed.csv')\n",
    "test_df.to_csv('test_preprocessed.csv')\n",
    "dataset = load_dataset(\n",
    "    'csv',\n",
    "    data_files={\n",
    "        'train': 'train_preprocessed.csv',\n",
    "        'valid': 'valid_preprocessed.csv',\n",
    "        'test': 'test_preprocessed.csv'\n",
    "    }\n",
    ")"
   ]
  },
  {
   "cell_type": "markdown",
   "metadata": {},
   "source": [
    "Load ParsBert tokenizer and tokenize texts"
   ]
  },
  {
   "cell_type": "code",
   "execution_count": 7,
   "metadata": {
    "execution": {
     "iopub.execute_input": "2025-07-07T21:34:31.836695Z",
     "iopub.status.busy": "2025-07-07T21:34:31.836512Z",
     "iopub.status.idle": "2025-07-07T21:34:38.885003Z",
     "shell.execute_reply": "2025-07-07T21:34:38.884123Z",
     "shell.execute_reply.started": "2025-07-07T21:34:31.836679Z"
    },
    "trusted": true
   },
   "outputs": [
    {
     "data": {
      "application/vnd.jupyter.widget-view+json": {
       "model_id": "f442f4f1ea3f462bac6e450671e3164c",
       "version_major": 2,
       "version_minor": 0
      },
      "text/plain": [
       "tokenizer_config.json:   0%|          | 0.00/292 [00:00<?, ?B/s]"
      ]
     },
     "metadata": {},
     "output_type": "display_data"
    },
    {
     "data": {
      "application/vnd.jupyter.widget-view+json": {
       "model_id": "e92ee03d06e842d597488ec6fa31b742",
       "version_major": 2,
       "version_minor": 0
      },
      "text/plain": [
       "vocab.txt: 0.00B [00:00, ?B/s]"
      ]
     },
     "metadata": {},
     "output_type": "display_data"
    },
    {
     "data": {
      "application/vnd.jupyter.widget-view+json": {
       "model_id": "19b7efcddb554540b4d7ee05f4e4f230",
       "version_major": 2,
       "version_minor": 0
      },
      "text/plain": [
       "special_tokens_map.json:   0%|          | 0.00/134 [00:00<?, ?B/s]"
      ]
     },
     "metadata": {},
     "output_type": "display_data"
    },
    {
     "data": {
      "application/vnd.jupyter.widget-view+json": {
       "model_id": "e7b546bcee894e39a22683f71b39ce6d",
       "version_major": 2,
       "version_minor": 0
      },
      "text/plain": [
       "tokenizer.json: 0.00B [00:00, ?B/s]"
      ]
     },
     "metadata": {},
     "output_type": "display_data"
    },
    {
     "data": {
      "application/vnd.jupyter.widget-view+json": {
       "model_id": "9c8f7b97696147c08f260bd23ab5e476",
       "version_major": 2,
       "version_minor": 0
      },
      "text/plain": [
       "config.json:   0%|          | 0.00/565 [00:00<?, ?B/s]"
      ]
     },
     "metadata": {},
     "output_type": "display_data"
    },
    {
     "data": {
      "application/vnd.jupyter.widget-view+json": {
       "model_id": "c8b885dd1f60422081c39e03f1be9aeb",
       "version_major": 2,
       "version_minor": 0
      },
      "text/plain": [
       "Map:   0%|          | 0/5512 [00:00<?, ? examples/s]"
      ]
     },
     "metadata": {},
     "output_type": "display_data"
    },
    {
     "data": {
      "application/vnd.jupyter.widget-view+json": {
       "model_id": "653d1bb7b41e4c248f98d8247b8bf8c9",
       "version_major": 2,
       "version_minor": 0
      },
      "text/plain": [
       "Map:   0%|          | 0/613 [00:00<?, ? examples/s]"
      ]
     },
     "metadata": {},
     "output_type": "display_data"
    },
    {
     "data": {
      "application/vnd.jupyter.widget-view+json": {
       "model_id": "fc6a462efbe340a387f89e3fcc4a5eaf",
       "version_major": 2,
       "version_minor": 0
      },
      "text/plain": [
       "Map:   0%|          | 0/1151 [00:00<?, ? examples/s]"
      ]
     },
     "metadata": {},
     "output_type": "display_data"
    }
   ],
   "source": [
    "model_name = \"HooshvareLab/bert-fa-zwnj-base\"\n",
    "\n",
    "# Initialize the tokenizer\n",
    "tokenizer = BertTokenizer.from_pretrained(model_name)\n",
    "\n",
    "# Define a function to tokenize the data\n",
    "def tokenize_function(data):\n",
    "    return tokenizer(data['text'], padding='max_length', truncation=True, max_length=512)\n",
    "\n",
    "# Tokenize the datasets\n",
    "tokenized_datasets = dataset.map(tokenize_function, batched=True)\n",
    "\n",
    "# Rename the 'label' column to 'labels' as expected by the model\n",
    "tokenized_datasets = tokenized_datasets.rename_column(\"label\", \"labels\")\n",
    "\n",
    "# Set the format for PyTorch\n",
    "tokenized_datasets.set_format('torch', columns=['input_ids', 'attention_mask', 'labels'])\n",
    "\n",
    "# Split into train and test\n",
    "train_dataset = tokenized_datasets['train']\n",
    "valid_dataset = tokenized_datasets['valid']\n",
    "test_dataset = tokenized_datasets['test']"
   ]
  },
  {
   "cell_type": "markdown",
   "metadata": {},
   "source": [
    "Load ParsBert model"
   ]
  },
  {
   "cell_type": "code",
   "execution_count": 8,
   "metadata": {
    "execution": {
     "iopub.execute_input": "2025-07-07T21:34:38.886293Z",
     "iopub.status.busy": "2025-07-07T21:34:38.885999Z",
     "iopub.status.idle": "2025-07-07T21:34:54.911243Z",
     "shell.execute_reply": "2025-07-07T21:34:54.910579Z",
     "shell.execute_reply.started": "2025-07-07T21:34:38.886264Z"
    },
    "trusted": true
   },
   "outputs": [
    {
     "data": {
      "application/vnd.jupyter.widget-view+json": {
       "model_id": "3a3cddcda1bc4ad7a7932d28c4743fa0",
       "version_major": 2,
       "version_minor": 0
      },
      "text/plain": [
       "pytorch_model.bin:   0%|          | 0.00/473M [00:00<?, ?B/s]"
      ]
     },
     "metadata": {},
     "output_type": "display_data"
    },
    {
     "name": "stderr",
     "output_type": "stream",
     "text": [
      "Some weights of BertForSequenceClassification were not initialized from the model checkpoint at HooshvareLab/bert-fa-zwnj-base and are newly initialized: ['bert.pooler.dense.bias', 'bert.pooler.dense.weight', 'classifier.bias', 'classifier.weight']\n",
      "You should probably TRAIN this model on a down-stream task to be able to use it for predictions and inference.\n"
     ]
    },
    {
     "data": {
      "text/plain": [
       "BertForSequenceClassification(\n",
       "  (bert): BertModel(\n",
       "    (embeddings): BertEmbeddings(\n",
       "      (word_embeddings): Embedding(42000, 768, padding_idx=0)\n",
       "      (position_embeddings): Embedding(512, 768)\n",
       "      (token_type_embeddings): Embedding(2, 768)\n",
       "      (LayerNorm): LayerNorm((768,), eps=1e-12, elementwise_affine=True)\n",
       "      (dropout): Dropout(p=0.1, inplace=False)\n",
       "    )\n",
       "    (encoder): BertEncoder(\n",
       "      (layer): ModuleList(\n",
       "        (0-11): 12 x BertLayer(\n",
       "          (attention): BertAttention(\n",
       "            (self): BertSdpaSelfAttention(\n",
       "              (query): Linear(in_features=768, out_features=768, bias=True)\n",
       "              (key): Linear(in_features=768, out_features=768, bias=True)\n",
       "              (value): Linear(in_features=768, out_features=768, bias=True)\n",
       "              (dropout): Dropout(p=0.1, inplace=False)\n",
       "            )\n",
       "            (output): BertSelfOutput(\n",
       "              (dense): Linear(in_features=768, out_features=768, bias=True)\n",
       "              (LayerNorm): LayerNorm((768,), eps=1e-12, elementwise_affine=True)\n",
       "              (dropout): Dropout(p=0.1, inplace=False)\n",
       "            )\n",
       "          )\n",
       "          (intermediate): BertIntermediate(\n",
       "            (dense): Linear(in_features=768, out_features=3072, bias=True)\n",
       "            (intermediate_act_fn): GELUActivation()\n",
       "          )\n",
       "          (output): BertOutput(\n",
       "            (dense): Linear(in_features=3072, out_features=768, bias=True)\n",
       "            (LayerNorm): LayerNorm((768,), eps=1e-12, elementwise_affine=True)\n",
       "            (dropout): Dropout(p=0.1, inplace=False)\n",
       "          )\n",
       "        )\n",
       "      )\n",
       "    )\n",
       "    (pooler): BertPooler(\n",
       "      (dense): Linear(in_features=768, out_features=768, bias=True)\n",
       "      (activation): Tanh()\n",
       "    )\n",
       "  )\n",
       "  (dropout): Dropout(p=0.1, inplace=False)\n",
       "  (classifier): Linear(in_features=768, out_features=7, bias=True)\n",
       ")"
      ]
     },
     "execution_count": 8,
     "metadata": {},
     "output_type": "execute_result"
    }
   ],
   "source": [
    "model = BertForSequenceClassification.from_pretrained(model_name, num_labels=7)\n",
    "device = torch.device('cuda')\n",
    "model.to(device)"
   ]
  },
  {
   "cell_type": "markdown",
   "metadata": {},
   "source": [
    "Define training arguments and train model using f1-macro as metrics"
   ]
  },
  {
   "cell_type": "code",
   "execution_count": null,
   "metadata": {
    "execution": {
     "iopub.execute_input": "2025-07-07T21:34:54.912215Z",
     "iopub.status.busy": "2025-07-07T21:34:54.911950Z",
     "iopub.status.idle": "2025-07-07T22:01:28.757404Z",
     "shell.execute_reply": "2025-07-07T22:01:28.756696Z",
     "shell.execute_reply.started": "2025-07-07T21:34:54.912197Z"
    },
    "trusted": true
   },
   "outputs": [
    {
     "data": {
      "application/vnd.jupyter.widget-view+json": {
       "model_id": "5358bc2dddc24700bf8b6c1fd646c8bf",
       "version_major": 2,
       "version_minor": 0
      },
      "text/plain": [
       "model.safetensors:   0%|          | 0.00/473M [00:00<?, ?B/s]"
      ]
     },
     "metadata": {},
     "output_type": "display_data"
    },
    {
     "data": {
      "text/html": [
       "\n",
       "    <div>\n",
       "      \n",
       "      <progress value='519' max='519' style='width:300px; height:20px; vertical-align: middle;'></progress>\n",
       "      [519/519 26:30, Epoch 3/3]\n",
       "    </div>\n",
       "    <table border=\"1\" class=\"dataframe\">\n",
       "  <thead>\n",
       " <tr style=\"text-align: left;\">\n",
       "      <th>Step</th>\n",
       "      <th>Training Loss</th>\n",
       "      <th>Validation Loss</th>\n",
       "      <th>Accuracy</th>\n",
       "      <th>Precision</th>\n",
       "      <th>Recall</th>\n",
       "      <th>F1</th>\n",
       "    </tr>\n",
       "  </thead>\n",
       "  <tbody>\n",
       "    <tr>\n",
       "      <td>10</td>\n",
       "      <td>1.948800</td>\n",
       "      <td>1.889301</td>\n",
       "      <td>0.230016</td>\n",
       "      <td>0.145847</td>\n",
       "      <td>0.130987</td>\n",
       "      <td>0.087317</td>\n",
       "    </tr>\n",
       "    <tr>\n",
       "      <td>20</td>\n",
       "      <td>1.900500</td>\n",
       "      <td>1.825959</td>\n",
       "      <td>0.277325</td>\n",
       "      <td>0.202433</td>\n",
       "      <td>0.162883</td>\n",
       "      <td>0.115706</td>\n",
       "    </tr>\n",
       "    <tr>\n",
       "      <td>30</td>\n",
       "      <td>1.830600</td>\n",
       "      <td>1.759507</td>\n",
       "      <td>0.298532</td>\n",
       "      <td>0.270303</td>\n",
       "      <td>0.187347</td>\n",
       "      <td>0.127834</td>\n",
       "    </tr>\n",
       "    <tr>\n",
       "      <td>40</td>\n",
       "      <td>1.745000</td>\n",
       "      <td>1.675169</td>\n",
       "      <td>0.378467</td>\n",
       "      <td>0.482456</td>\n",
       "      <td>0.305299</td>\n",
       "      <td>0.263467</td>\n",
       "    </tr>\n",
       "    <tr>\n",
       "      <td>50</td>\n",
       "      <td>1.633200</td>\n",
       "      <td>1.541575</td>\n",
       "      <td>0.453507</td>\n",
       "      <td>0.486366</td>\n",
       "      <td>0.427147</td>\n",
       "      <td>0.434901</td>\n",
       "    </tr>\n",
       "    <tr>\n",
       "      <td>60</td>\n",
       "      <td>1.471500</td>\n",
       "      <td>1.365120</td>\n",
       "      <td>0.525285</td>\n",
       "      <td>0.588034</td>\n",
       "      <td>0.487970</td>\n",
       "      <td>0.499991</td>\n",
       "    </tr>\n",
       "    <tr>\n",
       "      <td>70</td>\n",
       "      <td>1.309300</td>\n",
       "      <td>1.240693</td>\n",
       "      <td>0.559543</td>\n",
       "      <td>0.569238</td>\n",
       "      <td>0.594368</td>\n",
       "      <td>0.569568</td>\n",
       "    </tr>\n",
       "    <tr>\n",
       "      <td>80</td>\n",
       "      <td>1.170400</td>\n",
       "      <td>1.171443</td>\n",
       "      <td>0.585644</td>\n",
       "      <td>0.663710</td>\n",
       "      <td>0.553105</td>\n",
       "      <td>0.558566</td>\n",
       "    </tr>\n",
       "    <tr>\n",
       "      <td>90</td>\n",
       "      <td>1.157200</td>\n",
       "      <td>1.200223</td>\n",
       "      <td>0.570962</td>\n",
       "      <td>0.594119</td>\n",
       "      <td>0.621823</td>\n",
       "      <td>0.589655</td>\n",
       "    </tr>\n",
       "    <tr>\n",
       "      <td>100</td>\n",
       "      <td>1.135600</td>\n",
       "      <td>1.110122</td>\n",
       "      <td>0.588907</td>\n",
       "      <td>0.644606</td>\n",
       "      <td>0.579078</td>\n",
       "      <td>0.594076</td>\n",
       "    </tr>\n",
       "    <tr>\n",
       "      <td>110</td>\n",
       "      <td>1.053800</td>\n",
       "      <td>1.081331</td>\n",
       "      <td>0.588907</td>\n",
       "      <td>0.607300</td>\n",
       "      <td>0.606888</td>\n",
       "      <td>0.600754</td>\n",
       "    </tr>\n",
       "    <tr>\n",
       "      <td>120</td>\n",
       "      <td>1.068400</td>\n",
       "      <td>1.144763</td>\n",
       "      <td>0.606852</td>\n",
       "      <td>0.628673</td>\n",
       "      <td>0.647496</td>\n",
       "      <td>0.624910</td>\n",
       "    </tr>\n",
       "    <tr>\n",
       "      <td>130</td>\n",
       "      <td>1.171000</td>\n",
       "      <td>1.147979</td>\n",
       "      <td>0.577488</td>\n",
       "      <td>0.659938</td>\n",
       "      <td>0.572805</td>\n",
       "      <td>0.582099</td>\n",
       "    </tr>\n",
       "    <tr>\n",
       "      <td>140</td>\n",
       "      <td>1.041500</td>\n",
       "      <td>1.088187</td>\n",
       "      <td>0.601958</td>\n",
       "      <td>0.626711</td>\n",
       "      <td>0.636323</td>\n",
       "      <td>0.619376</td>\n",
       "    </tr>\n",
       "    <tr>\n",
       "      <td>150</td>\n",
       "      <td>1.073500</td>\n",
       "      <td>1.063282</td>\n",
       "      <td>0.603589</td>\n",
       "      <td>0.617671</td>\n",
       "      <td>0.637625</td>\n",
       "      <td>0.620904</td>\n",
       "    </tr>\n",
       "    <tr>\n",
       "      <td>160</td>\n",
       "      <td>0.931400</td>\n",
       "      <td>1.038877</td>\n",
       "      <td>0.629690</td>\n",
       "      <td>0.642561</td>\n",
       "      <td>0.662161</td>\n",
       "      <td>0.648852</td>\n",
       "    </tr>\n",
       "    <tr>\n",
       "      <td>170</td>\n",
       "      <td>0.923500</td>\n",
       "      <td>1.017586</td>\n",
       "      <td>0.626427</td>\n",
       "      <td>0.644427</td>\n",
       "      <td>0.644477</td>\n",
       "      <td>0.641892</td>\n",
       "    </tr>\n",
       "    <tr>\n",
       "      <td>180</td>\n",
       "      <td>0.840100</td>\n",
       "      <td>1.017297</td>\n",
       "      <td>0.623165</td>\n",
       "      <td>0.652806</td>\n",
       "      <td>0.637792</td>\n",
       "      <td>0.638924</td>\n",
       "    </tr>\n",
       "    <tr>\n",
       "      <td>190</td>\n",
       "      <td>0.711200</td>\n",
       "      <td>1.040322</td>\n",
       "      <td>0.621533</td>\n",
       "      <td>0.632539</td>\n",
       "      <td>0.656316</td>\n",
       "      <td>0.638272</td>\n",
       "    </tr>\n",
       "    <tr>\n",
       "      <td>200</td>\n",
       "      <td>0.765200</td>\n",
       "      <td>1.066484</td>\n",
       "      <td>0.631321</td>\n",
       "      <td>0.655193</td>\n",
       "      <td>0.665571</td>\n",
       "      <td>0.650861</td>\n",
       "    </tr>\n",
       "    <tr>\n",
       "      <td>210</td>\n",
       "      <td>0.721100</td>\n",
       "      <td>1.030797</td>\n",
       "      <td>0.623165</td>\n",
       "      <td>0.645779</td>\n",
       "      <td>0.630611</td>\n",
       "      <td>0.630968</td>\n",
       "    </tr>\n",
       "    <tr>\n",
       "      <td>220</td>\n",
       "      <td>0.793600</td>\n",
       "      <td>1.038831</td>\n",
       "      <td>0.632953</td>\n",
       "      <td>0.653017</td>\n",
       "      <td>0.660643</td>\n",
       "      <td>0.652366</td>\n",
       "    </tr>\n",
       "    <tr>\n",
       "      <td>230</td>\n",
       "      <td>0.853100</td>\n",
       "      <td>1.008136</td>\n",
       "      <td>0.641109</td>\n",
       "      <td>0.659677</td>\n",
       "      <td>0.665318</td>\n",
       "      <td>0.659656</td>\n",
       "    </tr>\n",
       "    <tr>\n",
       "      <td>240</td>\n",
       "      <td>0.723300</td>\n",
       "      <td>1.038492</td>\n",
       "      <td>0.639478</td>\n",
       "      <td>0.659579</td>\n",
       "      <td>0.656217</td>\n",
       "      <td>0.650576</td>\n",
       "    </tr>\n",
       "    <tr>\n",
       "      <td>250</td>\n",
       "      <td>0.718000</td>\n",
       "      <td>1.038942</td>\n",
       "      <td>0.636215</td>\n",
       "      <td>0.647435</td>\n",
       "      <td>0.661943</td>\n",
       "      <td>0.651993</td>\n",
       "    </tr>\n",
       "    <tr>\n",
       "      <td>260</td>\n",
       "      <td>0.792300</td>\n",
       "      <td>1.022148</td>\n",
       "      <td>0.634584</td>\n",
       "      <td>0.638203</td>\n",
       "      <td>0.648897</td>\n",
       "      <td>0.640605</td>\n",
       "    </tr>\n",
       "    <tr>\n",
       "      <td>270</td>\n",
       "      <td>0.717700</td>\n",
       "      <td>1.041395</td>\n",
       "      <td>0.615008</td>\n",
       "      <td>0.625137</td>\n",
       "      <td>0.633070</td>\n",
       "      <td>0.624205</td>\n",
       "    </tr>\n",
       "    <tr>\n",
       "      <td>280</td>\n",
       "      <td>0.797100</td>\n",
       "      <td>1.044920</td>\n",
       "      <td>0.626427</td>\n",
       "      <td>0.637808</td>\n",
       "      <td>0.653012</td>\n",
       "      <td>0.641722</td>\n",
       "    </tr>\n",
       "    <tr>\n",
       "      <td>290</td>\n",
       "      <td>0.714400</td>\n",
       "      <td>1.010623</td>\n",
       "      <td>0.641109</td>\n",
       "      <td>0.648243</td>\n",
       "      <td>0.647592</td>\n",
       "      <td>0.645681</td>\n",
       "    </tr>\n",
       "    <tr>\n",
       "      <td>300</td>\n",
       "      <td>0.695800</td>\n",
       "      <td>1.007648</td>\n",
       "      <td>0.649266</td>\n",
       "      <td>0.666425</td>\n",
       "      <td>0.668135</td>\n",
       "      <td>0.666058</td>\n",
       "    </tr>\n",
       "    <tr>\n",
       "      <td>310</td>\n",
       "      <td>0.661400</td>\n",
       "      <td>1.021673</td>\n",
       "      <td>0.647635</td>\n",
       "      <td>0.665373</td>\n",
       "      <td>0.669416</td>\n",
       "      <td>0.664353</td>\n",
       "    </tr>\n",
       "    <tr>\n",
       "      <td>320</td>\n",
       "      <td>0.781200</td>\n",
       "      <td>1.019832</td>\n",
       "      <td>0.652529</td>\n",
       "      <td>0.663474</td>\n",
       "      <td>0.664081</td>\n",
       "      <td>0.659496</td>\n",
       "    </tr>\n",
       "    <tr>\n",
       "      <td>330</td>\n",
       "      <td>0.780600</td>\n",
       "      <td>1.047594</td>\n",
       "      <td>0.639478</td>\n",
       "      <td>0.653706</td>\n",
       "      <td>0.670116</td>\n",
       "      <td>0.655556</td>\n",
       "    </tr>\n",
       "    <tr>\n",
       "      <td>340</td>\n",
       "      <td>0.751200</td>\n",
       "      <td>1.028491</td>\n",
       "      <td>0.649266</td>\n",
       "      <td>0.662620</td>\n",
       "      <td>0.668082</td>\n",
       "      <td>0.659990</td>\n",
       "    </tr>\n",
       "    <tr>\n",
       "      <td>350</td>\n",
       "      <td>0.643600</td>\n",
       "      <td>1.012853</td>\n",
       "      <td>0.642741</td>\n",
       "      <td>0.648578</td>\n",
       "      <td>0.661966</td>\n",
       "      <td>0.653396</td>\n",
       "    </tr>\n",
       "    <tr>\n",
       "      <td>360</td>\n",
       "      <td>0.484500</td>\n",
       "      <td>1.089370</td>\n",
       "      <td>0.631321</td>\n",
       "      <td>0.648767</td>\n",
       "      <td>0.661568</td>\n",
       "      <td>0.643570</td>\n",
       "    </tr>\n",
       "    <tr>\n",
       "      <td>370</td>\n",
       "      <td>0.451300</td>\n",
       "      <td>1.046015</td>\n",
       "      <td>0.639478</td>\n",
       "      <td>0.654960</td>\n",
       "      <td>0.661230</td>\n",
       "      <td>0.653544</td>\n",
       "    </tr>\n",
       "    <tr>\n",
       "      <td>380</td>\n",
       "      <td>0.423500</td>\n",
       "      <td>1.040022</td>\n",
       "      <td>0.649266</td>\n",
       "      <td>0.668363</td>\n",
       "      <td>0.651935</td>\n",
       "      <td>0.657801</td>\n",
       "    </tr>\n",
       "    <tr>\n",
       "      <td>390</td>\n",
       "      <td>0.471600</td>\n",
       "      <td>1.045857</td>\n",
       "      <td>0.657423</td>\n",
       "      <td>0.664008</td>\n",
       "      <td>0.684948</td>\n",
       "      <td>0.671756</td>\n",
       "    </tr>\n",
       "    <tr>\n",
       "      <td>400</td>\n",
       "      <td>0.456900</td>\n",
       "      <td>1.033234</td>\n",
       "      <td>0.654160</td>\n",
       "      <td>0.668512</td>\n",
       "      <td>0.670641</td>\n",
       "      <td>0.668222</td>\n",
       "    </tr>\n",
       "    <tr>\n",
       "      <td>410</td>\n",
       "      <td>0.413700</td>\n",
       "      <td>1.035131</td>\n",
       "      <td>0.655791</td>\n",
       "      <td>0.667267</td>\n",
       "      <td>0.666890</td>\n",
       "      <td>0.665791</td>\n",
       "    </tr>\n",
       "    <tr>\n",
       "      <td>420</td>\n",
       "      <td>0.372500</td>\n",
       "      <td>1.043753</td>\n",
       "      <td>0.662316</td>\n",
       "      <td>0.670689</td>\n",
       "      <td>0.672753</td>\n",
       "      <td>0.671243</td>\n",
       "    </tr>\n",
       "    <tr>\n",
       "      <td>430</td>\n",
       "      <td>0.338000</td>\n",
       "      <td>1.073948</td>\n",
       "      <td>0.641109</td>\n",
       "      <td>0.654508</td>\n",
       "      <td>0.658981</td>\n",
       "      <td>0.653279</td>\n",
       "    </tr>\n",
       "    <tr>\n",
       "      <td>440</td>\n",
       "      <td>0.439000</td>\n",
       "      <td>1.075660</td>\n",
       "      <td>0.646003</td>\n",
       "      <td>0.659833</td>\n",
       "      <td>0.666614</td>\n",
       "      <td>0.659977</td>\n",
       "    </tr>\n",
       "    <tr>\n",
       "      <td>450</td>\n",
       "      <td>0.493200</td>\n",
       "      <td>1.068239</td>\n",
       "      <td>0.650897</td>\n",
       "      <td>0.661220</td>\n",
       "      <td>0.676937</td>\n",
       "      <td>0.667906</td>\n",
       "    </tr>\n",
       "    <tr>\n",
       "      <td>460</td>\n",
       "      <td>0.422200</td>\n",
       "      <td>1.070730</td>\n",
       "      <td>0.655791</td>\n",
       "      <td>0.669462</td>\n",
       "      <td>0.678087</td>\n",
       "      <td>0.671484</td>\n",
       "    </tr>\n",
       "    <tr>\n",
       "      <td>470</td>\n",
       "      <td>0.322700</td>\n",
       "      <td>1.069045</td>\n",
       "      <td>0.650897</td>\n",
       "      <td>0.666854</td>\n",
       "      <td>0.669008</td>\n",
       "      <td>0.665793</td>\n",
       "    </tr>\n",
       "    <tr>\n",
       "      <td>480</td>\n",
       "      <td>0.393400</td>\n",
       "      <td>1.083886</td>\n",
       "      <td>0.650897</td>\n",
       "      <td>0.665933</td>\n",
       "      <td>0.670109</td>\n",
       "      <td>0.664990</td>\n",
       "    </tr>\n",
       "    <tr>\n",
       "      <td>490</td>\n",
       "      <td>0.446900</td>\n",
       "      <td>1.072859</td>\n",
       "      <td>0.650897</td>\n",
       "      <td>0.666044</td>\n",
       "      <td>0.669715</td>\n",
       "      <td>0.665986</td>\n",
       "    </tr>\n",
       "    <tr>\n",
       "      <td>500</td>\n",
       "      <td>0.438900</td>\n",
       "      <td>1.061886</td>\n",
       "      <td>0.657423</td>\n",
       "      <td>0.672880</td>\n",
       "      <td>0.672236</td>\n",
       "      <td>0.671402</td>\n",
       "    </tr>\n",
       "    <tr>\n",
       "      <td>510</td>\n",
       "      <td>0.404100</td>\n",
       "      <td>1.066273</td>\n",
       "      <td>0.657423</td>\n",
       "      <td>0.671439</td>\n",
       "      <td>0.674187</td>\n",
       "      <td>0.671836</td>\n",
       "    </tr>\n",
       "  </tbody>\n",
       "</table><p>"
      ],
      "text/plain": [
       "<IPython.core.display.HTML object>"
      ]
     },
     "metadata": {},
     "output_type": "display_data"
    },
    {
     "name": "stderr",
     "output_type": "stream",
     "text": [
      "/usr/local/lib/python3.11/dist-packages/sklearn/metrics/_classification.py:1344: UndefinedMetricWarning: Precision and F-score are ill-defined and being set to 0.0 in labels with no predicted samples. Use `zero_division` parameter to control this behavior.\n",
      "  _warn_prf(average, modifier, msg_start, len(result))\n",
      "/usr/local/lib/python3.11/dist-packages/sklearn/metrics/_classification.py:1344: UndefinedMetricWarning: Precision and F-score are ill-defined and being set to 0.0 in labels with no predicted samples. Use `zero_division` parameter to control this behavior.\n",
      "  _warn_prf(average, modifier, msg_start, len(result))\n",
      "/usr/local/lib/python3.11/dist-packages/sklearn/metrics/_classification.py:1344: UndefinedMetricWarning: Precision and F-score are ill-defined and being set to 0.0 in labels with no predicted samples. Use `zero_division` parameter to control this behavior.\n",
      "  _warn_prf(average, modifier, msg_start, len(result))\n",
      "/usr/local/lib/python3.11/dist-packages/sklearn/metrics/_classification.py:1344: UndefinedMetricWarning: Precision and F-score are ill-defined and being set to 0.0 in labels with no predicted samples. Use `zero_division` parameter to control this behavior.\n",
      "  _warn_prf(average, modifier, msg_start, len(result))\n"
     ]
    },
    {
     "data": {
      "text/plain": [
       "TrainOutput(global_step=519, training_loss=0.831617325027554, metrics={'train_runtime': 1593.3553, 'train_samples_per_second': 10.378, 'train_steps_per_second': 0.326, 'total_flos': 4350999732019200.0, 'train_loss': 0.831617325027554, 'epoch': 3.0})"
      ]
     },
     "execution_count": 9,
     "metadata": {},
     "output_type": "execute_result"
    }
   ],
   "source": [
    "torch.cuda.empty_cache()\n",
    "\n",
    "def compute_metrics(eval_pred):\n",
    "    logits, labels = eval_pred\n",
    "    predictions = torch.argmax(torch.tensor(logits), dim=1).numpy()\n",
    "    labels = labels\n",
    "    accuracy = accuracy_score(labels, predictions)\n",
    "    precision, recall, f1, _ = precision_recall_fscore_support(labels, predictions, average='macro')\n",
    "    return {\n",
    "        'accuracy': accuracy,\n",
    "        'precision': precision,\n",
    "        'recall': recall,\n",
    "        'f1': f1,\n",
    "    }\n",
    "\n",
    "# Define training arguments\n",
    "training_args = TrainingArguments(\n",
    "    output_dir='./results',\n",
    "    num_train_epochs=3,              # Number of training epochs\n",
    "    per_device_train_batch_size=32,  # Batch size for training\n",
    "    per_device_eval_batch_size=32,   # Batch size for evaluation\n",
    "    warmup_steps=50,                 # Number of warmup steps\n",
    "    weight_decay=0.01,               # Strength of weight decay\n",
    "    logging_dir='./logs',            # Directory for storing logs\n",
    "    logging_steps=10,\n",
    "    eval_strategy=\"steps\",           # Evaluate at the end of each epoch\n",
    "    save_strategy=\"steps\",           # Save at the end of each epoch\n",
    "    load_best_model_at_end=True,\n",
    "    metric_for_best_model=\"eval_loss\", # Specify metric to monitor for best model\n",
    "    report_to=\"none\",                  # Disable W&B integration\n",
    ")\n",
    "\n",
    "# Initialize the Trainer\n",
    "trainer = Trainer(\n",
    "    model=model,\n",
    "    args=training_args,\n",
    "    train_dataset=train_dataset,\n",
    "    eval_dataset=valid_dataset,\n",
    "    compute_metrics=compute_metrics,\n",
    ")\n",
    "\n",
    "# Start training\n",
    "trainer.train()"
   ]
  },
  {
   "cell_type": "markdown",
   "metadata": {},
   "source": [
    "Re-initialize the trainer with the compute_metrics function and evaluate model"
   ]
  },
  {
   "cell_type": "code",
   "execution_count": null,
   "metadata": {
    "execution": {
     "iopub.execute_input": "2025-07-07T22:01:28.759632Z",
     "iopub.status.busy": "2025-07-07T22:01:28.759425Z",
     "iopub.status.idle": "2025-07-07T22:01:46.820360Z",
     "shell.execute_reply": "2025-07-07T22:01:46.819618Z",
     "shell.execute_reply.started": "2025-07-07T22:01:28.759616Z"
    },
    "trusted": true
   },
   "outputs": [
    {
     "data": {
      "text/html": [],
      "text/plain": [
       "<IPython.core.display.HTML object>"
      ]
     },
     "metadata": {},
     "output_type": "display_data"
    },
    {
     "name": "stdout",
     "output_type": "stream",
     "text": [
      "{'eval_loss': 1.2936317920684814, 'eval_model_preparation_time': 0.0027, 'eval_accuracy': 0.5899218071242398, 'eval_precision': 0.642994265149942, 'eval_recall': 0.5801760057479556, 'eval_f1': 0.5846770594353422, 'eval_runtime': 18.0415, 'eval_samples_per_second': 63.797, 'eval_steps_per_second': 1.995}\n"
     ]
    }
   ],
   "source": [
    "trainer = Trainer(\n",
    "    model=model,\n",
    "    args=training_args,\n",
    "    train_dataset=train_dataset,\n",
    "    eval_dataset=test_dataset,\n",
    "    compute_metrics=compute_metrics,\n",
    ")\n",
    "\n",
    "# Evaluate the model\n",
    "results = trainer.evaluate()\n",
    "print(results)"
   ]
  },
  {
   "cell_type": "markdown",
   "metadata": {},
   "source": [
    "Get predictions and true labels and plot confusion matrix"
   ]
  },
  {
   "cell_type": "code",
   "execution_count": 11,
   "metadata": {
    "execution": {
     "iopub.execute_input": "2025-07-07T22:01:46.821253Z",
     "iopub.status.busy": "2025-07-07T22:01:46.821053Z",
     "iopub.status.idle": "2025-07-07T22:02:05.224737Z",
     "shell.execute_reply": "2025-07-07T22:02:05.223948Z",
     "shell.execute_reply.started": "2025-07-07T22:01:46.821237Z"
    },
    "trusted": true
   },
   "outputs": [
    {
     "data": {
      "image/png": "[encoded data removed]",
      "text/plain": [
       "<Figure size 800x600 with 2 Axes>"
      ]
     },
     "metadata": {},
     "output_type": "display_data"
    }
   ],
   "source": [
    "predicted_labels, true_labels, _ = trainer.predict(test_dataset)\n",
    "predicted_labels = predicted_labels.argmax(axis=-1)\n",
    "\n",
    "# Inverse transform to get the actual class names\n",
    "true_class_names = label_encoder.inverse_transform(true_labels)\n",
    "predicted_class_names = label_encoder.inverse_transform(predicted_labels)\n",
    "\n",
    "# Compute the confusion matrix\n",
    "cm = confusion_matrix(true_class_names, predicted_class_names)\n",
    "\n",
    "# Plot confusion matrix\n",
    "plt.figure(figsize=(8, 6))\n",
    "sns.heatmap(cm, annot=True, fmt='d', cmap='Blues', xticklabels=label_encoder.classes_, yticklabels=label_encoder.classes_)\n",
    "plt.xlabel('Predicted Labels')\n",
    "plt.ylabel('True Labels')\n",
    "plt.title('Confusion Matrix')\n",
    "plt.show()"
   ]
  },
  {
   "cell_type": "markdown",
   "metadata": {},
   "source": [
    "Save bert model and tokenizer for api use"
   ]
  },
  {
   "cell_type": "code",
   "execution_count": 12,
   "metadata": {
    "execution": {
     "iopub.execute_input": "2025-07-07T22:02:05.225834Z",
     "iopub.status.busy": "2025-07-07T22:02:05.225560Z",
     "iopub.status.idle": "2025-07-07T22:02:06.261694Z",
     "shell.execute_reply": "2025-07-07T22:02:06.260946Z",
     "shell.execute_reply.started": "2025-07-07T22:02:05.225809Z"
    },
    "trusted": true
   },
   "outputs": [
    {
     "data": {
      "text/plain": [
       "('bert_model/tokenizer_config.json',\n",
       " 'bert_model/special_tokens_map.json',\n",
       " 'bert_model/vocab.txt',\n",
       " 'bert_model/added_tokens.json')"
      ]
     },
     "execution_count": 12,
     "metadata": {},
     "output_type": "execute_result"
    }
   ],
   "source": [
    "model.save_pretrained(\"bert_model\")\n",
    "tokenizer.save_pretrained(\"bert_model\")"
   ]
  },
  {
   "cell_type": "code",
   "execution_count": null,
   "metadata": {
    "trusted": true
   },
   "outputs": [],
   "source": []
  }
 ],
 "metadata": {
  "kaggle": {
   "accelerator": "gpu",
   "dataSources": [
    {
     "datasetId": 7434610,
     "sourceId": 11833951,
     "sourceType": "datasetVersion"
    },
    {
     "datasetId": 7614452,
     "sourceId": 12095537,
     "sourceType": "datasetVersion"
    }
   ],
   "dockerImageVersionId": 31041,
   "isGpuEnabled": true,
   "isInternetEnabled": true,
   "language": "python",
   "sourceType": "notebook"
  },
  "kernelspec": {
   "display_name": "Python 3",
   "language": "python",
   "name": "python3"
  },
  "language_info": {
   "codemirror_mode": {
    "name": "ipython",
    "version": 3
   },
   "file_extension": ".py",
   "mimetype": "text/x-python",
   "name": "python",
   "nbconvert_exporter": "python",
   "pygments_lexer": "ipython3",
   "version": "3.11.11"
  }
 },
 "nbformat": 4,
 "nbformat_minor": 4
}
